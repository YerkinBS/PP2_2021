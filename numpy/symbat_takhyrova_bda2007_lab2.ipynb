{
 "cells": [
  {
   "cell_type": "markdown",
   "source": [
    "# IDA: Assignment 2\n",
    "\n",
    "### Deadline: October 3 (until 23:59)\n",
    "\n",
    "\n",
    "**Instructions:** All answers should be provided in the notebook and then submitted to Moodle. Name of notebook should be in following format:\n",
    " - Name_group_Assignment2.ipynb (ex. Tony_Stark_2009_Assignment1.ipynb). PLEASE, use exactly the **same format.**\n",
    " - Try to use fewer cells for compilation (for example, you can use print for several answers, instead of printing each answer on a separate cell)\n",
    " - **PLEASE:** submit only one jupyter notebook (no zip or csv files) and with your names as in the instruction. Ohterwise, there will be punishment of 30% from your assignment mark.\n",
    " - **IMPORTANT NOTE:** you will get points only for correct answers, not for trials or wrong answers. Your notebook should run when we press **\"Restart Kernel\"** and then press **\"Run All\"**. We are going to check answers only after doing that. If your code do not compile and stops at any question, you will get zero for that question."
   ],
   "metadata": {}
  },
  {
   "cell_type": "markdown",
   "source": [
    "## Q1 (10%)\n",
    "Using **list comprehension** create a new list from `list_q1_1` and `list_q1_2`. For the values at the same position (index), you should have sum of elements if element of `list_q1_1` is smaller (strictly) than the element of `list_q1_2`. Otherwise, you should take their difference. \n",
    "\n",
    "***Note:*** *in the obtained list all values should be positive.*"
   ],
   "metadata": {}
  },
  {
   "cell_type": "code",
   "execution_count": 1,
   "source": [
    "list_q1_1 = [41, 21, 96, 34, 65, 46, 79, 73, 49, 85, 63, 51, 93, 84, 29, 62, 95, 39, 72, 66]\r\n",
    "print(list_q1_1)"
   ],
   "outputs": [
    {
     "output_type": "stream",
     "name": "stdout",
     "text": [
      "[41, 21, 96, 34, 65, 46, 79, 73, 49, 85, 63, 51, 93, 84, 29, 62, 95, 39, 72, 66]\n"
     ]
    }
   ],
   "metadata": {}
  },
  {
   "cell_type": "code",
   "execution_count": 2,
   "source": [
    "list_q1_2 = [95, 76, 92, 91, 49, 61, 68, 32, 50, 29, 48, 82, 33, 81, 39, 69, 84, 74, 89, 15]\r\n",
    "print(list_q1_2)"
   ],
   "outputs": [
    {
     "output_type": "stream",
     "name": "stdout",
     "text": [
      "[95, 76, 92, 91, 49, 61, 68, 32, 50, 29, 48, 82, 33, 81, 39, 69, 84, 74, 89, 15]\n"
     ]
    }
   ],
   "metadata": {}
  },
  {
   "cell_type": "code",
   "execution_count": 3,
   "source": [
    "print([abs(i + j) if i < j else abs(i - j) for i, j in zip(list_q1_1, list_q1_2)])"
   ],
   "outputs": [
    {
     "output_type": "stream",
     "name": "stdout",
     "text": [
      "[136, 97, 4, 125, 16, 107, 11, 41, 99, 56, 15, 133, 60, 3, 68, 131, 11, 113, 161, 51]\n"
     ]
    }
   ],
   "metadata": {}
  },
  {
   "cell_type": "markdown",
   "source": [
    "## Q2 (10%)\r\n",
    "Using **list comprehension** on `list_q2_1` and `list_q2_2` create a new list containing value pairs, where one of them is divisible by another, but do not include two equal elements. For example, (13, 91) should be included, but (91,91) should not)."
   ],
   "metadata": {}
  },
  {
   "cell_type": "code",
   "execution_count": 4,
   "source": [
    "list_q2_1 = [97, 29, 43, 96, 91, 22, 51, 83, 31, 13,\r\n",
    "             62, 19, 23, 26, 50, 70, 84, 67, 36, 35]\r\n",
    "print(list_q2_1)"
   ],
   "outputs": [
    {
     "output_type": "stream",
     "name": "stdout",
     "text": [
      "[97, 29, 43, 96, 91, 22, 51, 83, 31, 13, 62, 19, 23, 26, 50, 70, 84, 67, 36, 35]\n"
     ]
    }
   ],
   "metadata": {}
  },
  {
   "cell_type": "code",
   "execution_count": 5,
   "source": [
    "list_q2_2 = [31, 63, 98, 91, 46, 71, 37, 70, 75, 33,\r\n",
    "             74, 77, 40, 10, 11, 57, 84, 64, 18, 28]\r\n",
    "print(list_q2_2)"
   ],
   "outputs": [
    {
     "output_type": "stream",
     "name": "stdout",
     "text": [
      "[31, 63, 98, 91, 46, 71, 37, 70, 75, 33, 74, 77, 40, 10, 11, 57, 84, 64, 18, 28]\n"
     ]
    }
   ],
   "metadata": {}
  },
  {
   "cell_type": "code",
   "execution_count": 6,
   "source": [
    "print([(i, j) for i in list_q2_1 for j in list_q2_2 if ((i % j == 0 or j % i == 0) and i != j)])"
   ],
   "outputs": [
    {
     "output_type": "stream",
     "name": "stdout",
     "text": [
      "[(22, 11), (13, 91), (62, 31), (19, 57), (23, 46), (50, 10), (70, 10), (84, 28), (36, 18), (35, 70)]\n"
     ]
    }
   ],
   "metadata": {}
  },
  {
   "cell_type": "markdown",
   "source": [
    "## Q3 (10%)\n",
    "Using **list comprehension** obtain a list of all 2-digits prime numbers (for example, 13, 17, 19...).\n",
    "\n",
    "***Note:*** *it can be done with one line of code.*"
   ],
   "metadata": {}
  },
  {
   "cell_type": "code",
   "execution_count": 7,
   "source": [
    "print([n for n in range(11, 100, 2) if all(n % i != 0 for i in range(2, n))])"
   ],
   "outputs": [
    {
     "output_type": "stream",
     "name": "stdout",
     "text": [
      "[11, 13, 17, 19, 23, 29, 31, 37, 41, 43, 47, 53, 59, 61, 67, 71, 73, 79, 83, 89, 97]\n"
     ]
    }
   ],
   "metadata": {}
  },
  {
   "cell_type": "markdown",
   "source": [
    "## Q4 (10%)\r\n",
    "\r\n",
    "\r\n",
    "Using **list comprehension** create a windowing lists of 3 elements at a time with step 1 for `list_q4`. \r\n",
    "\r\n",
    "Your result should look as following: [[48, 95, 11], [95, 11, 46], [11, 46, 76],..]\r\n",
    "\r\n",
    "***Note:*** *it can be done with one line of code.*"
   ],
   "metadata": {}
  },
  {
   "cell_type": "code",
   "execution_count": 8,
   "source": [
    "list_q4 = [48, 95, 11, 46, 76, 75, 35, 78, 81, 58, \r\n",
    "           17, 26, 97, 63, 93, 57, 28, 85, 54, 62]\r\n",
    "print(list_q4)"
   ],
   "outputs": [
    {
     "output_type": "stream",
     "name": "stdout",
     "text": [
      "[48, 95, 11, 46, 76, 75, 35, 78, 81, 58, 17, 26, 97, 63, 93, 57, 28, 85, 54, 62]\n"
     ]
    }
   ],
   "metadata": {
    "scrolled": true
   }
  },
  {
   "cell_type": "code",
   "execution_count": 9,
   "source": [
    "print([[list_q4[j] for j in range(i, i + 3) if i + 3 <= len(list_q4)] for i in range(len(list_q4))][:-2])"
   ],
   "outputs": [
    {
     "output_type": "stream",
     "name": "stdout",
     "text": [
      "[[48, 95, 11], [95, 11, 46], [11, 46, 76], [46, 76, 75], [76, 75, 35], [75, 35, 78], [35, 78, 81], [78, 81, 58], [81, 58, 17], [58, 17, 26], [17, 26, 97], [26, 97, 63], [97, 63, 93], [63, 93, 57], [93, 57, 28], [57, 28, 85], [28, 85, 54], [85, 54, 62]]\n"
     ]
    }
   ],
   "metadata": {}
  },
  {
   "cell_type": "markdown",
   "source": [
    "## Q5 (10%)\r\n",
    "For the string below using **dictionary comprihension** create a dictionary, where key - possible word length, and value - number of words of this length. \r\n",
    "\r\n",
    "***Note:*** *you should not consider keys which are not appearing in the text.*"
   ],
   "metadata": {}
  },
  {
   "cell_type": "code",
   "execution_count": 10,
   "source": [
    "string_q5 = \"From they fine john he give of rich he. They age and draw mrs like. Improving end distrusts may instantly was household applauded incommode. Why kept very ever home mrs. Considered sympathize ten uncommonly occasional assistance sufficient not. Letter of on become he tended active enable to. Vicinity relation sensible sociable surprise screened no up as.Death weeks early had their and folly timed put. Hearted forbade on an village ye in fifteen. Age attended betrayed her man raptures laughter. Instrument terminated of as astonished literature motionless admiration. The affection are determine how performed intention discourse but. On merits on so valley indeed assure of. Has add particular boisterous uncommonly are. Early wrong as so manor match. Him necessary shameless discovery consulted one but.\"\r\n",
    "print(string_q5)"
   ],
   "outputs": [
    {
     "output_type": "stream",
     "name": "stdout",
     "text": [
      "From they fine john he give of rich he. They age and draw mrs like. Improving end distrusts may instantly was household applauded incommode. Why kept very ever home mrs. Considered sympathize ten uncommonly occasional assistance sufficient not. Letter of on become he tended active enable to. Vicinity relation sensible sociable surprise screened no up as.Death weeks early had their and folly timed put. Hearted forbade on an village ye in fifteen. Age attended betrayed her man raptures laughter. Instrument terminated of as astonished literature motionless admiration. The affection are determine how performed intention discourse but. On merits on so valley indeed assure of. Has add particular boisterous uncommonly are. Early wrong as so manor match. Him necessary shameless discovery consulted one but.\n"
     ]
    }
   ],
   "metadata": {}
  },
  {
   "cell_type": "code",
   "execution_count": 11,
   "source": [
    "print({i : [len(i) for i in string_q5.replace('.', ' ').split()].count(i) for i in [len(j) for j in string_q5.replace('.', ' ').split()]})"
   ],
   "outputs": [
    {
     "output_type": "stream",
     "name": "stdout",
     "text": [
      "{4: 13, 2: 22, 3: 26, 9: 15, 10: 15, 6: 9, 8: 10, 5: 10, 7: 4}\n"
     ]
    }
   ],
   "metadata": {}
  },
  {
   "cell_type": "markdown",
   "source": [
    "## Q6 (10%)\r\n",
    "Using numpy create two arbitrary matrices A and B of size 3x3 with only 2-digit numbers. And then apply different matrix operations:\r\n",
    "1. addition\r\n",
    "2. subtraction\r\n",
    "3. pointwise multiplication\r\n",
    "4. pointwise division\r\n",
    "5. matrix dot product\r\n",
    "6. transpose\r\n",
    "7. determinant\r\n",
    "8. rank\r\n",
    "9. inverse"
   ],
   "metadata": {}
  },
  {
   "cell_type": "code",
   "execution_count": 12,
   "source": [
    "import numpy as np"
   ],
   "outputs": [],
   "metadata": {}
  },
  {
   "cell_type": "code",
   "execution_count": 13,
   "source": [
    "import random\r\n",
    "\r\n",
    "def Addition(A, B):\r\n",
    "    res = np.add(A, B)\r\n",
    "    print('\\nAddition:\\n', res)\r\n",
    "\r\n",
    "def Substraction(A, B):\r\n",
    "    res = np.subtract(A, B)\r\n",
    "    print('\\nSubstraction:\\n' , res)\r\n",
    "\r\n",
    "def Pointw_Mult(A, B):\r\n",
    "    res = np.multiply(A, B)\r\n",
    "    print('\\nPointwise multuplication:\\n', res)\r\n",
    "\r\n",
    "def Pointw_Div(A, B):\r\n",
    "    res = np.divide(A, B)\r\n",
    "    print('\\nPointwise division:\\n', res)\r\n",
    "\r\n",
    "def Dot_Prod(A, B):\r\n",
    "    res = np.dot(A, B)\r\n",
    "    print('\\nMatrix dot product:\\n', res)\r\n",
    "\r\n",
    "def Transpose(matr1, matr2):\r\n",
    "    res1 = np.transpose(matr1)\r\n",
    "    res2 = np.transpose(matr2)\r\n",
    "    print('\\nTranspose of the matrix A:\\n', res1)\r\n",
    "    print('\\nTranspose of the matrix B:\\n', res2)\r\n",
    "\r\n",
    "def Determinant(matr1, matr2):\r\n",
    "    res1 = np.linalg.det(matr1)\r\n",
    "    res2 = np.linalg.det(matr2)\r\n",
    "    print('\\nDeterminant of the matrix A:\\n', res1)\r\n",
    "    print('\\nDeterminant of the matrix B:\\n', res2)\r\n",
    "\r\n",
    "def Rank(matr1, matr2):\r\n",
    "    res1 = np.linalg.matrix_rank(matr1)\r\n",
    "    res2 = np.linalg.matrix_rank(matr2)\r\n",
    "    print('\\nRank of the matrix A:\\n', res1)\r\n",
    "    print('\\nRank of the matrix B:\\n', res2)\r\n",
    "\r\n",
    "def Inverse(matr1, matr2):\r\n",
    "    res1 = np.linalg.inv(matr1)\r\n",
    "    res2 = np.linalg.inv(matr2)\r\n",
    "    print('\\nInverse of the matrix A:\\n', res1)\r\n",
    "    print('\\nInverse of the matrix B:\\n', res2)\r\n",
    "\r\n",
    "A = np.matrix([random.randint(10, 99) for i in range(9)]).reshape(3, 3)\r\n",
    "B = np.matrix([random.randint(10, 99) for i in range(9)]).reshape(3, 3)\r\n",
    "print('The matrix A:\\n', A, '\\n')\r\n",
    "print('The matrix B:\\n', B)\r\n",
    "\r\n",
    "Addition(A, B)\r\n",
    "Substraction(A, B)\r\n",
    "Pointw_Mult(A, B)\r\n",
    "Pointw_Div(A, B)\r\n",
    "Dot_Prod(A, B)\r\n",
    "Transpose(A, B)\r\n",
    "Determinant(A, B)\r\n",
    "Rank(A, B)\r\n",
    "Inverse(A, B)"
   ],
   "outputs": [
    {
     "output_type": "stream",
     "name": "stdout",
     "text": [
      "The matrix A:\n",
      " [[62 76 30]\n",
      " [18 96 75]\n",
      " [52 73 70]] \n",
      "\n",
      "The matrix B:\n",
      " [[53 39 50]\n",
      " [64 23 42]\n",
      " [44 90 65]]\n",
      "\n",
      "Addition:\n",
      " [[115 115  80]\n",
      " [ 82 119 117]\n",
      " [ 96 163 135]]\n",
      "\n",
      "Substraction:\n",
      " [[  9  37 -20]\n",
      " [-46  73  33]\n",
      " [  8 -17   5]]\n",
      "\n",
      "Pointwise multuplication:\n",
      " [[3286 2964 1500]\n",
      " [1152 2208 3150]\n",
      " [2288 6570 4550]]\n",
      "\n",
      "Pointwise division:\n",
      " [[1.16981132 1.94871795 0.6       ]\n",
      " [0.28125    4.17391304 1.78571429]\n",
      " [1.18181818 0.81111111 1.07692308]]\n",
      "\n",
      "Matrix dot product:\n",
      " [[ 9470  6866  8242]\n",
      " [10398  9660  9807]\n",
      " [10508 10007 10216]]\n",
      "\n",
      "Transpose of the matrix A:\n",
      " [[62 18 52]\n",
      " [76 96 73]\n",
      " [30 75 70]]\n",
      "\n",
      "Transpose of the matrix B:\n",
      " [[53 64 44]\n",
      " [39 23 90]\n",
      " [50 42 65]]\n",
      "\n",
      "Determinant of the matrix A:\n",
      " 167490.0\n",
      "\n",
      "Determinant of the matrix B:\n",
      " 26127.000000000004\n",
      "\n",
      "Rank of the matrix A:\n",
      " 3\n",
      "\n",
      "Rank of the matrix B:\n",
      " 3\n",
      "\n",
      "Inverse of the matrix A:\n",
      " [[ 0.00743328 -0.01868768  0.01683683]\n",
      " [ 0.01576214  0.01659801 -0.02453878]\n",
      " [-0.02195952 -0.00342707  0.0273688 ]]\n",
      "\n",
      "Inverse of the matrix B:\n",
      " [[-0.08745742  0.07520955  0.018678  ]\n",
      " [-0.08849083  0.04765185  0.03727944]\n",
      " [ 0.18172771 -0.11689057 -0.04887664]]\n"
     ]
    }
   ],
   "metadata": {}
  },
  {
   "cell_type": "markdown",
   "source": [
    "## Q7 (10%)\r\n",
    "For the list below obtain numpy array and then do the following steps:\r\n",
    "1. Find all indexes for values between 40 and 60 (both included).\r\n",
    "2. Find all values between 40 and 60 (both included).\r\n",
    "3. Find all numbers divisible by 3 or 5 or 7.\r\n",
    "4. Find all prime numbers in this array (you may use list obtained in Q3)."
   ],
   "metadata": {}
  },
  {
   "cell_type": "code",
   "execution_count": 14,
   "source": [
    "list_q7 = [53, 58, 93, 96, 40, 97, 95, 24, 27, 61, \r\n",
    "           15, 25, 47, 22, 45, 50, 99, 37, 13, 17, \r\n",
    "           90, 13, 23, 54, 80, 83, 98, 14, 70, 30]\r\n",
    "print(list_q7)"
   ],
   "outputs": [
    {
     "output_type": "stream",
     "name": "stdout",
     "text": [
      "[53, 58, 93, 96, 40, 97, 95, 24, 27, 61, 15, 25, 47, 22, 45, 50, 99, 37, 13, 17, 90, 13, 23, 54, 80, 83, 98, 14, 70, 30]\n"
     ]
    }
   ],
   "metadata": {}
  },
  {
   "cell_type": "code",
   "execution_count": 15,
   "source": [
    "import numpy as np\r\n",
    "\r\n",
    "arr = np.array(list_q7)\r\n",
    "print('Array:', arr)\r\n",
    "print('1)', *[i for i in range(len(arr)) if 40 <= arr[i] <= 60])\r\n",
    "print('2)', *[arr[i] for i in range(len(arr)) if 40 <= arr[i] <= 60])\r\n",
    "print('3)', *[arr[i] for i in range(len(arr)) if arr[i] % 3 == 0 or arr[i] % 5 == 0 or arr[i] % 7 == 0])\r\n",
    "print('4)', *[arr[i] for i in range(len(arr)) if arr[i] in [n for n in range(11, 100, 2) if all(n % i != 0 for i in range(2, n))]])"
   ],
   "outputs": [
    {
     "output_type": "stream",
     "name": "stdout",
     "text": [
      "Array: [53 58 93 96 40 97 95 24 27 61 15 25 47 22 45 50 99 37 13 17 90 13 23 54\n",
      " 80 83 98 14 70 30]\n",
      "1) 0 1 4 12 14 15 23\n",
      "2) 53 58 40 47 45 50 54\n",
      "3) 93 96 40 95 24 27 15 25 45 50 99 90 54 80 98 14 70 30\n",
      "4) 53 97 61 47 37 13 17 13 23 83\n"
     ]
    }
   ],
   "metadata": {}
  },
  {
   "cell_type": "markdown",
   "source": [
    "## Q8 (10%)\n",
    "Do the following tasks:\n",
    "1. Create an array of all 3-digit numbers divisible by 33. \n",
    "2. Create an array of 19 elements betweem 10 and 100.\n",
    "3. Create an array of size 20 with random 2-digit values. Replace all numbers divisible by 3 to 'abc'.\n",
    "4. Create an array of size 20 with random 2-digit values. Find 3 smallest and 3 largest elements. "
   ],
   "metadata": {}
  },
  {
   "cell_type": "code",
   "execution_count": 16,
   "source": [
    "import numpy as np, random\r\n",
    "\r\n",
    "arr1 = np.array([i for i in range(100, 1000) if i % 33 == 0])\r\n",
    "arr2 = np.array([random.randint(10, 100) for i in range(19)])\r\n",
    "arr3 = np.array([i if i % 3 != 0 else 'abc' for i in [random.randint(10, 99) for j in range(20)]])\r\n",
    "arr4 = np.array([random.randint(10, 99) for j in range(20)])\r\n",
    "print('1)', arr1, '\\n')\r\n",
    "print('2)', arr2, '\\n')\r\n",
    "print('3)', arr3, '\\n')\r\n",
    "print('4)', arr4, '\\nSmallest 3:', np.sort(arr4)[:3], 'Largest 3:', np.sort(arr4)[len(arr4) - 3:])"
   ],
   "outputs": [
    {
     "output_type": "stream",
     "name": "stdout",
     "text": [
      "1) [132 165 198 231 264 297 330 363 396 429 462 495 528 561 594 627 660 693\n",
      " 726 759 792 825 858 891 924 957 990] \n",
      "\n",
      "2) [ 81  49  10  91  23  87  47  23  36  26  83  62  53 100  71  66  24  71\n",
      "  67] \n",
      "\n",
      "3) ['35' '68' '77' '91' 'abc' '62' '49' '50' '88' '83' 'abc' '85' 'abc' '19'\n",
      " '68' '20' 'abc' '22' '77' 'abc'] \n",
      "\n",
      "4) [15 51 19 20 54 63 78 30 59 24 99 19 18 69 89 44 89 43 95 65] \n",
      "Smallest 3: [15 18 19] Largest 3: [89 95 99]\n"
     ]
    }
   ],
   "metadata": {}
  },
  {
   "cell_type": "markdown",
   "source": [
    "## Q9 (10%)\r\n",
    "Create a matrix of size 4x4 with random 2-digit numbers. Do the following tasks:\r\n",
    "1. Find mean along rows and mean along columns.\r\n",
    "2. Find max along rows and max along columns.\r\n",
    "3. Find indexes of min and max values.\r\n",
    "4. Iteratre over matrix, and print its index as (i,j) and corresponding value. For example, Index: (1,1), Value: 50."
   ],
   "metadata": {}
  },
  {
   "cell_type": "code",
   "execution_count": 17,
   "source": [
    "import numpy as np, random\r\n",
    "\r\n",
    "def Matr_Means(mt):\r\n",
    "    print('\\nColumn means:\\n', mt.mean(axis=0))\r\n",
    "    print('\\nRow means:\\n', mt.mean(axis=1))\r\n",
    "\r\n",
    "def Matr_Max(mt):\r\n",
    "    print('\\nMaximums along columns:\\n', mt.max(axis=0))\r\n",
    "    print('\\nMaximums along rows:\\n', mt.max(axis=1))\r\n",
    "\r\n",
    "def Ind_of_MaxMin(mt):\r\n",
    "    ind_max = np.argmax(mt)\r\n",
    "    ind_min = np.argmin(mt)\r\n",
    "    print('\\nIndex of maximum in the entire matrix:', np.unravel_index(ind_max, mt.shape))\r\n",
    "    print('The maximum in the entire matrix:', mt[np.unravel_index(ind_max, mt.shape)])\r\n",
    "    print('\\nIndex of minimum in the entire matrix:', np.unravel_index(ind_min, mt.shape))\r\n",
    "    print('The minimum in the entire matrix:', mt[np.unravel_index(ind_min, mt.shape)])\r\n",
    "\r\n",
    "def Iterate(mt):\r\n",
    "    print()\r\n",
    "    for index, values in np.ndenumerate(mt):\r\n",
    "        print('Index: {}, Value: {}'.format(index, values)) \r\n",
    "\r\n",
    "matr = np.matrix([random.randint(10, 99) for i in range(16)]).reshape(4, 4)\r\n",
    "print('Matrix:\\n', matr)\r\n",
    "\r\n",
    "Matr_Means(matr)\r\n",
    "Matr_Max(matr)\r\n",
    "Ind_of_MaxMin(matr)\r\n",
    "Iterate(matr)"
   ],
   "outputs": [
    {
     "output_type": "stream",
     "name": "stdout",
     "text": [
      "Matrix:\n",
      " [[85 28 68 29]\n",
      " [54 13 95 67]\n",
      " [48 36 99 56]\n",
      " [78 91 64 33]]\n",
      "\n",
      "Column means:\n",
      " [[66.25 42.   81.5  46.25]]\n",
      "\n",
      "Row means:\n",
      " [[52.5 ]\n",
      " [57.25]\n",
      " [59.75]\n",
      " [66.5 ]]\n",
      "\n",
      "Maximums along columns:\n",
      " [[85 91 99 67]]\n",
      "\n",
      "Maximums along rows:\n",
      " [[85]\n",
      " [95]\n",
      " [99]\n",
      " [91]]\n",
      "\n",
      "Index of maximum in the entire matrix: (2, 2)\n",
      "The maximum in the entire matrix: 99\n",
      "\n",
      "Index of minimum in the entire matrix: (1, 1)\n",
      "The minimum in the entire matrix: 13\n",
      "\n",
      "Index: (0, 0), Value: 85\n",
      "Index: (0, 1), Value: 28\n",
      "Index: (0, 2), Value: 68\n",
      "Index: (0, 3), Value: 29\n",
      "Index: (1, 0), Value: 54\n",
      "Index: (1, 1), Value: 13\n",
      "Index: (1, 2), Value: 95\n",
      "Index: (1, 3), Value: 67\n",
      "Index: (2, 0), Value: 48\n",
      "Index: (2, 1), Value: 36\n",
      "Index: (2, 2), Value: 99\n",
      "Index: (2, 3), Value: 56\n",
      "Index: (3, 0), Value: 78\n",
      "Index: (3, 1), Value: 91\n",
      "Index: (3, 2), Value: 64\n",
      "Index: (3, 3), Value: 33\n"
     ]
    }
   ],
   "metadata": {}
  },
  {
   "cell_type": "markdown",
   "source": [
    "## Q10 (10%)\r\n",
    "Create a matrix of size 5x5 with random 2-digit numbers. Do the following tasks:\r\n",
    "1. Reverse both along rows and columns.\r\n",
    "2. Sort along rows in descending order.\r\n",
    "3. Sort along columns in descending order.\r\n",
    "4. Sort all 25 elements in descending order, i.e. at index (1,1) you should have the largest element, and at index (5,5) the smallest element. "
   ],
   "metadata": {}
  },
  {
   "cell_type": "code",
   "execution_count": 18,
   "source": [
    "import numpy as np, random\r\n",
    "\r\n",
    "def Matr_Reverse(mt):\r\n",
    "    print('\\nReversed matrix:\\n', np.flip(mt))\r\n",
    "\r\n",
    "def Matr_SortByRows(mt):\r\n",
    "    v = mt.tolist()\r\n",
    "    d = {}\r\n",
    "    for i in v:\r\n",
    "        if sum(i) not in d.keys():\r\n",
    "            d[sum(i)] = [i]\r\n",
    "        else:\r\n",
    "            d[sum(i)].append(i)\r\n",
    "    res = []\r\n",
    "    for key in sorted(d.keys(), key=int, reverse=True):\r\n",
    "        for value in d[key]:\r\n",
    "            res.append(value)\r\n",
    "    mt = np.matrix(res)\r\n",
    "    print('\\nSorted rows of matrix in descending order:\\n', mt)\r\n",
    "\r\n",
    "def Matr_SortByColumns(mt):\r\n",
    "    v = list(zip(*np.asarray(mt)))\r\n",
    "    res1 = [list(i) for i in v]\r\n",
    "    d = {}\r\n",
    "    for i in res1:\r\n",
    "        if sum(i) not in d.keys():\r\n",
    "            d[sum(i)] = [i]\r\n",
    "        else:\r\n",
    "            d[sum(i)].append(i)\r\n",
    "    res2 = []\r\n",
    "    for key in sorted(d.keys(), key=int, reverse=True):\r\n",
    "        for value in d[key]:\r\n",
    "            res2.append(value)\r\n",
    "    mt = np.matrix(res2)\r\n",
    "    mt = mt.transpose()\r\n",
    "    print('\\nSorted columns of matrix in descending order:\\n', mt)\r\n",
    "\r\n",
    "def All_Sort(mt):\r\n",
    "    v = mt.tolist()\r\n",
    "    res = []\r\n",
    "    for i in v:\r\n",
    "        for j in i:\r\n",
    "            res.append(j)\r\n",
    "    mt = np.matrix(sorted(res, key=int, reverse=True)).reshape(5, 5)\r\n",
    "    print('\\nFull sorted matrix by descending order:\\n', mt)\r\n",
    "\r\n",
    "matr = np.matrix([random.randint(10, 99) for i in range(25)]).reshape(5, 5)\r\n",
    "print('Matrix:\\n', matr)\r\n",
    "\r\n",
    "Matr_Reverse(matr)\r\n",
    "Matr_SortByRows(matr)\r\n",
    "Matr_SortByColumns(matr)\r\n",
    "All_Sort(matr)"
   ],
   "outputs": [
    {
     "output_type": "stream",
     "name": "stdout",
     "text": [
      "Matrix:\n",
      " [[91 49 71 35 90]\n",
      " [79 81 43 43 58]\n",
      " [34 66 78 43 96]\n",
      " [25 67 68 37 90]\n",
      " [81 15 13 31 87]]\n",
      "\n",
      "Reversed matrix:\n",
      " [[87 31 13 15 81]\n",
      " [90 37 68 67 25]\n",
      " [96 43 78 66 34]\n",
      " [58 43 43 81 79]\n",
      " [90 35 71 49 91]]\n",
      "\n",
      "Sorted rows of matrix in descending order:\n",
      " [[91 49 71 35 90]\n",
      " [34 66 78 43 96]\n",
      " [79 81 43 43 58]\n",
      " [25 67 68 37 90]\n",
      " [81 15 13 31 87]]\n",
      "\n",
      "Sorted columns of matrix in descending order:\n",
      " [[90 91 49 71 35]\n",
      " [58 79 81 43 43]\n",
      " [96 34 66 78 43]\n",
      " [90 25 67 68 37]\n",
      " [87 81 15 13 31]]\n",
      "\n",
      "Full sorted matrix by descending order:\n",
      " [[96 91 90 90 87]\n",
      " [81 81 79 78 71]\n",
      " [68 67 66 58 49]\n",
      " [43 43 43 37 35]\n",
      " [34 31 25 15 13]]\n"
     ]
    }
   ],
   "metadata": {}
  },
  {
   "cell_type": "markdown",
   "source": [
    "---\n",
    "\n",
    "### Evaluation (Keep it!)\n",
    "\n",
    "| Question | Mark     | Comment   \n",
    "|:-------:|:--------:|:----------------------\n",
    "| 1       |   10/10    |     \n",
    "| 2       |   10/10     | \n",
    "| 3       |   10/10     | \n",
    "| 4       |   10/10     | \n",
    "| 5       |   10/10    |     \n",
    "| 6       |   10/10     | \n",
    "| 7       |   10/10     | \n",
    "| 8       |   10/10     | \n",
    "| 9       |   10/10     | \n",
    "| 10       |   10/10     | \n",
    "|**Total**|**100/100**  | \n"
   ],
   "metadata": {}
  }
 ],
 "metadata": {
  "kernelspec": {
   "name": "python3",
   "display_name": "Python 3.9.5 64-bit"
  },
  "language_info": {
   "codemirror_mode": {
    "name": "ipython",
    "version": 3
   },
   "file_extension": ".py",
   "mimetype": "text/x-python",
   "name": "python",
   "nbconvert_exporter": "python",
   "pygments_lexer": "ipython3",
   "version": "3.9.5"
  },
  "interpreter": {
   "hash": "ac59ebe37160ed0dfa835113d9b8498d9f09ceb179beaac4002f036b9467c963"
  }
 },
 "nbformat": 4,
 "nbformat_minor": 4
}