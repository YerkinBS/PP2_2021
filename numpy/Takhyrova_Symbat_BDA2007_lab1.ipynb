{
 "cells": [
  {
   "cell_type": "markdown",
   "source": [
    "# IDA: Assignment 1\n",
    "\n",
    "### Deadline: September 24 (until 23:59)\n",
    "\n",
    "\n",
    "**Instructions:** All answers should be provided in the notebook and then submitted to Moodle. Name of notebook should be in following format:\n",
    " - Name_group_Assignment1.ipynb (ex. Harry_Potter_2009_Assignment1.ipynb). PLEASE, use exactly the **same format.**\n",
    " - Try to use fewer cells for compilation (for example, you can use print for several answers, instead of printing each answer on a separate cell)\n",
    " - **PLEASE:** submit only one jupyter notebook (no zip or csv files) and with your names as in the instruction. Ohterwise, there will be punishment of 30% from your assignment mark.\n",
    " - **IMPORTANT NOTE:** you will get points only for correct answers, not for trials or wrong answers. Your notebook should run when we press **\"Restart Kernel\"** and then press **\"Run All\"**. We are going to check answers only after doing that. If your code do not compile and stops at any question, you will get zero for that question."
   ],
   "metadata": {}
  },
  {
   "cell_type": "markdown",
   "source": [
    "## Q1 (10%)\n",
    "Convert the string below to a list."
   ],
   "metadata": {}
  },
  {
   "cell_type": "code",
   "execution_count": 10,
   "source": [
    "list_q1 = \"['bahandi','kfc', 'mcdonalds', 'salambro','hardees', 'burgerking', 'wendys']\""
   ],
   "outputs": [],
   "metadata": {}
  },
  {
   "cell_type": "code",
   "execution_count": 49,
   "source": [
    "new_list_q1 = ''\r\n",
    "for i in list_q1:\r\n",
    "    if i == ',':\r\n",
    "        new_list_q1 += ' '\r\n",
    "        continue\r\n",
    "    if i not in \"[],'' \":\r\n",
    "        new_list_q1 += i\r\n",
    "list_q2 = list(new_list_q1.split())\r\n",
    "print(list_q2)"
   ],
   "outputs": [
    {
     "output_type": "stream",
     "name": "stdout",
     "text": [
      "['bahandi', 'kfc', 'mcdonalds', 'salambro', 'hardees', 'burgerking', 'wendys']\n"
     ]
    }
   ],
   "metadata": {}
  },
  {
   "cell_type": "markdown",
   "source": [
    "## Q2 (10%)\r\n",
    "Create a random list of one hundred 3 digit numbers with some selected seed. Save that list in variable list_q2. Then print elements, which are divisible by their corresponding index's last digit. Ignore index zero.\r\n",
    "\r\n",
    "***Hints:*** use library random."
   ],
   "metadata": {}
  },
  {
   "cell_type": "code",
   "execution_count": 97,
   "source": [
    "import random\r\n",
    "list_q2 = [random.randint(100, 999) for i in range(100)]\r\n",
    "print(*[list_q2[i] for i in range(1, len(list_q2)) if list_q2[i] % int(str(i).strip('0')[-1]) == 0])"
   ],
   "outputs": [
    {
     "output_type": "stream",
     "name": "stdout",
     "text": [
      "491 606 854 646 183 752 624 981 652 960 117 778 915 558 437 235 884 267 840 675 390 560 328 407 386 135 628 441 565 912 666 425 954\n"
     ]
    }
   ],
   "metadata": {}
  },
  {
   "cell_type": "markdown",
   "source": [
    "## Q3 (10%)\n",
    "Write a function that calculates the Euclidean distance between two n-dimensional points. The function should take two lists as arguments, where each list contains the n coordinates of each of the two points. \n",
    "\n",
    "If input parameters have the different size, your function should raise an error or warning.\n",
    "\n",
    "Test your function for the points [0, 3, 0] and [4, 0, 0].\n",
    "\n",
    "***Hints:*** You can read about the definition of Euclidean distance on [Wikipedia](https://en.wikipedia.org/wiki/Euclidean_distance)."
   ],
   "metadata": {}
  },
  {
   "cell_type": "code",
   "execution_count": 100,
   "source": [
    "def Euclidean_Dist(a, b):\r\n",
    "    dist = (((a[0] - b[0]) ** 2) + ((a[1] - b[1]) ** 2) + ((a[2] - b[2]) ** 2)) ** 0.5\r\n",
    "    return dist\r\n",
    "\r\n",
    "a = list(map(int, input().split()))\r\n",
    "b = list(map(int, input().split()))\r\n",
    "print(Euclidean_Dist(a, b) if len(a) == len(b) else 'ERROR')"
   ],
   "outputs": [
    {
     "output_type": "stream",
     "name": "stdout",
     "text": [
      "ERROR\n"
     ]
    }
   ],
   "metadata": {}
  },
  {
   "cell_type": "markdown",
   "source": [
    "## Q4 (10%)\r\n",
    "Write a function that estimates the centroid of a collection of n-dimensional points. The function should take one list as an argument, which contains each of the points entered as a list of n coordinates. The function should return a list with the coordinates of the virtual center point.\r\n",
    "\r\n",
    "Test your function for the points in `test_q4` entered below.\r\n",
    "\r\n",
    "***Hints:***  The coordinate of the centroid in each dimension is the mean of the coordinates of all the points in that dimension. Also, you might need some other libraries to calculate mean."
   ],
   "metadata": {}
  },
  {
   "cell_type": "code",
   "execution_count": 14,
   "source": [
    "test_q4 = [[0,0,0], [0,0,1], [0,1,0], [1,0,0], \r\n",
    "           [0,1,1], [1,0,1], [1,1,0], [1,1,1]]"
   ],
   "outputs": [],
   "metadata": {}
  },
  {
   "cell_type": "code",
   "execution_count": 108,
   "source": [
    "def Centroid_Calc(l):\r\n",
    "    d = {}\r\n",
    "    for point in l:\r\n",
    "        for p in range(len(point)):\r\n",
    "            if p in d.keys():\r\n",
    "                d[p] += point[p]\r\n",
    "            else:\r\n",
    "                d[p] = point[p]\r\n",
    "    return [point / len(l) for point in d.values()]  \r\n",
    "\r\n",
    "print(Centroid_Calc(test_q4))"
   ],
   "outputs": [
    {
     "output_type": "stream",
     "name": "stdout",
     "text": [
      "[2.0, 3.0]\n"
     ]
    }
   ],
   "metadata": {}
  },
  {
   "cell_type": "markdown",
   "source": [
    "## Q5 (30%)\r\n",
    "Write a function that takes a list as an input and allocates its elements to different list depending on their datatypes. There should be separate list for strings, booleans, float, but for integers there should seperate lists based on number of digits in the list. Also, lists should be ordered in ascending order.\r\n",
    "\r\n",
    "For example, if you have `test_q5` as input, your function should return a result as following:\r\n",
    "\r\n",
    "[['dog', 'hot'], [False, True], [4.5, 9.8], [1, 2, 3], [10, 12, 15, 19]]\r\n",
    "\r\n",
    "***Note:*** make sure you get a list of lists with different data types, having strings list first, then booleans, floats, and integers. Also, each internal list should be ordered in ascending order. Also, keep in mind that there can be integers of any size. "
   ],
   "metadata": {}
  },
  {
   "cell_type": "code",
   "execution_count": 16,
   "source": [
    "list_5 = [9.8, 3,1,2, 4.5, 12, 15, 10, 19, 'hot', 'dog',  True, False]"
   ],
   "outputs": [],
   "metadata": {}
  },
  {
   "cell_type": "code",
   "execution_count": 101,
   "source": [
    "def List_Allocate(l):\r\n",
    "    d = {1 : [], 2 : [], 3 : []}\r\n",
    "    d_int = {}\r\n",
    "\r\n",
    "    for i in l:\r\n",
    "        if type(i) is not int:\r\n",
    "            if type(i) is str: d[1].append(i)\r\n",
    "            elif type(i) is bool: d[2].append(i)\r\n",
    "            elif type(i) is float: d[3].append(i) \r\n",
    "        else:\r\n",
    "            if len(str(i)) in d_int.keys():\r\n",
    "                d_int[len(str(i))].append(i)\r\n",
    "            else:\r\n",
    "                d_int[len(str(i))] = [i]\r\n",
    "    \r\n",
    "    result = [sorted(i) for i in sorted(d.values(), key=len)]\r\n",
    "    for i in sorted(d_int.values(), key=len): result.append(sorted(i))\r\n",
    "    return result\r\n",
    "\r\n",
    "print(List_Allocate(list_5))"
   ],
   "outputs": [
    {
     "output_type": "stream",
     "name": "stdout",
     "text": [
      "[['dog', 'hot'], [False, True], [4.5, 9.8], [1, 2, 3], [10, 12, 15, 19]]\n"
     ]
    }
   ],
   "metadata": {}
  },
  {
   "cell_type": "markdown",
   "source": [
    "## Q6 (30%)\r\n",
    "Write a universal function that calculates an area of the triangle based on different methods of calculation. Design your function as following:\r\n",
    "1. It should take several parameters: method,a,b,c,h,angle,r,R (a,b,c - triangle sides, angle - angle between two sides, r - inner circle radius, R - outer circle radius). \r\n",
    "2. Depending on the method it should look for necessary parameters. If for the selected method there is not enough parameters provided, it should raise some warning or error. If for the selected method there is more parameters provided than needed, just use only those that are needed (it is ok).\r\n",
    "3. In your solution decide which parameters always needs to be provided, and which are not always necessary. \r\n",
    "\r\n",
    "*Use following triangle area calculation methods:* https://www.webmath.ru/poleznoe/formules8.php\r\n",
    "\r\n",
    "*Use the following method names:*\r\n",
    "* with height\r\n",
    "* with angle\r\n",
    "* inner radius\r\n",
    "* outer radius \r\n",
    "* heron\r\n",
    "\r\n",
    "***Note:*** you should not use libraries with predefined triangle area formulas."
   ],
   "metadata": {}
  },
  {
   "cell_type": "code",
   "execution_count": 13,
   "source": [
    "from math import sin\r\n",
    "\r\n",
    "def Triangle_Area(param):\r\n",
    "    if param[0] != 'heron':\r\n",
    "        method == param[0] + ' ' + param[1]\r\n",
    "        param = param[2:]\r\n",
    "    else:\r\n",
    "        method = param[0]\r\n",
    "        param = param[1:]\r\n",
    "    print(param)\r\n",
    "    print(method)\r\n",
    "\r\n",
    "    if method == 'with height':\r\n",
    "        if len(param) > 3:\r\n",
    "            h = int(param[3])\r\n",
    "        else:\r\n",
    "            return 'ERROR'\r\n",
    "        S = (a * h) // 2\r\n",
    "    elif method == 'with angle':\r\n",
    "        if len(param) > 4:\r\n",
    "            angle = int(param[4])\r\n",
    "        else:\r\n",
    "            return 'ERROR'\r\n",
    "        S = (a * b * sin(angle)) // 2\r\n",
    "    elif method == 'inner radius':\r\n",
    "        if len(param) > 5:\r\n",
    "            r = int(param[5])\r\n",
    "        else:\r\n",
    "            return 'ERROR'\r\n",
    "        p = (a + b + c) // 2\r\n",
    "        S = r * p\r\n",
    "    elif method == 'outer radius':\r\n",
    "        if len(param) > 6:\r\n",
    "            R = int(param[6])\r\n",
    "        else:\r\n",
    "            return 'ERROR'\r\n",
    "        S = (a * b * c) * 4 * R\r\n",
    "    elif method == 'heron':\r\n",
    "        if len(param) > 3:\r\n",
    "            p = (a + b + c) // 2\r\n",
    "        else:\r\n",
    "            return 'ERROR'\r\n",
    "        S = int((p * (p - a) * (p - b) * (p - c)) ** 0.5)\r\n",
    "\r\n",
    "    return S\r\n",
    "\r\n",
    "\r\n",
    "parameters = list(map(str, input().split()))\r\n",
    "print(Triangle_Area(parameters))"
   ],
   "outputs": [
    {
     "output_type": "stream",
     "name": "stdout",
     "text": [
      "['10', '15', '20']\n",
      "heron\n",
      "ERROR\n"
     ]
    }
   ],
   "metadata": {}
  },
  {
   "cell_type": "markdown",
   "source": [
    "---\n",
    "\n",
    "### Evaluation (Keep it!)\n",
    "\n",
    "| Question | Mark     | Comment   \n",
    "|:-------:|:--------:|:----------------------\n",
    "| 1       |   10/10    |     \n",
    "| 2       |   10/10     | \n",
    "| 3       |   10/10     | \n",
    "| 4       |   10/10     | \n",
    "| 5       |   30/30   | \n",
    "| 6       |   30/30    | \n",
    "|**Total**|**100/100**  | \n"
   ],
   "metadata": {}
  }
 ],
 "metadata": {
  "kernelspec": {
   "name": "python3",
   "display_name": "Python 3.9.5 64-bit"
  },
  "language_info": {
   "codemirror_mode": {
    "name": "ipython",
    "version": 3
   },
   "file_extension": ".py",
   "mimetype": "text/x-python",
   "name": "python",
   "nbconvert_exporter": "python",
   "pygments_lexer": "ipython3",
   "version": "3.9.5"
  },
  "interpreter": {
   "hash": "ac59ebe37160ed0dfa835113d9b8498d9f09ceb179beaac4002f036b9467c963"
  }
 },
 "nbformat": 4,
 "nbformat_minor": 4
}